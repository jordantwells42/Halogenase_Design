{
 "cells": [
  {
   "cell_type": "markdown",
   "metadata": {},
   "source": [
    "# Halogenase Design Data Visualization with Pandas and Matplotlib"
   ]
  },
  {
   "cell_type": "markdown",
   "metadata": {},
   "source": [
    "Created with the goal to confirm that the graph of score against RMSD is \"funnel-shaped\" and that as sequence identity increases score decreases"
   ]
  },
  {
   "cell_type": "markdown",
   "metadata": {},
   "source": [
    "### 1. Import necessary libraries"
   ]
  },
  {
   "cell_type": "code",
   "execution_count": 1,
   "metadata": {},
   "outputs": [],
   "source": [
    "import pandas as pd\n",
    "import matplotlib.pyplot as plt\n",
    "import numpy as np"
   ]
  },
  {
   "cell_type": "markdown",
   "metadata": {},
   "source": [
    "### 2. Read CSV file with decoy information"
   ]
  },
  {
   "cell_type": "code",
   "execution_count": 2,
   "metadata": {
    "scrolled": true
   },
   "outputs": [],
   "source": [
    "df = pd.read_csv(\"CSVs/test.csv\", header = None)"
   ]
  },
  {
   "cell_type": "markdown",
   "metadata": {},
   "source": [
    "### 3. Create Pandas DataFrame with data"
   ]
  },
  {
   "cell_type": "code",
   "execution_count": 3,
   "metadata": {
    "scrolled": true
   },
   "outputs": [],
   "source": [
    "df.columns = [\"Test Name\", \"Score\", \"RMSD\", \"Sequence Identity\", \"# of Mutations\",\"Mutations\", \"Sequence\"]\n",
    "df.index = df[\"Test Name\"]\n",
    "df = df.drop(\"Test Name\", axis = 1)\n"
   ]
  },
  {
   "cell_type": "code",
   "execution_count": 4,
   "metadata": {},
   "outputs": [
    {
     "data": {
      "text/html": [
       "<div>\n",
       "<style scoped>\n",
       "    .dataframe tbody tr th:only-of-type {\n",
       "        vertical-align: middle;\n",
       "    }\n",
       "\n",
       "    .dataframe tbody tr th {\n",
       "        vertical-align: top;\n",
       "    }\n",
       "\n",
       "    .dataframe thead th {\n",
       "        text-align: right;\n",
       "    }\n",
       "</style>\n",
       "<table border=\"1\" class=\"dataframe\">\n",
       "  <thead>\n",
       "    <tr style=\"text-align: right;\">\n",
       "      <th></th>\n",
       "      <th>Score</th>\n",
       "      <th>RMSD</th>\n",
       "      <th>Sequence Identity</th>\n",
       "      <th># of Mutations</th>\n",
       "      <th>Mutations</th>\n",
       "      <th>Sequence</th>\n",
       "    </tr>\n",
       "    <tr>\n",
       "      <th>Test Name</th>\n",
       "      <th></th>\n",
       "      <th></th>\n",
       "      <th></th>\n",
       "      <th></th>\n",
       "      <th></th>\n",
       "      <th></th>\n",
       "    </tr>\n",
       "  </thead>\n",
       "  <tbody>\n",
       "    <tr>\n",
       "      <th>2test1_1</th>\n",
       "      <td>-431.118041</td>\n",
       "      <td>0.304815</td>\n",
       "      <td>0.333333</td>\n",
       "      <td>6.0</td>\n",
       "      <td>A356L A357T A358S A460M A461L A462F A464Q A466L</td>\n",
       "      <td>MSGKIDKILIVGGGTAGWMAASYLGKALQGTADITLLQAPDIPTLG...</td>\n",
       "    </tr>\n",
       "    <tr>\n",
       "      <th>2test1_2</th>\n",
       "      <td>-429.019163</td>\n",
       "      <td>0.294727</td>\n",
       "      <td>0.222222</td>\n",
       "      <td>7.0</td>\n",
       "      <td>A356L A357G A358S A460M A464Q A465E A466L</td>\n",
       "      <td>MSGKIDKILIVGGGTAGWMAASYLGKALQGTADITLLQAPDIPTLG...</td>\n",
       "    </tr>\n",
       "    <tr>\n",
       "      <th>2test1_3</th>\n",
       "      <td>-433.606821</td>\n",
       "      <td>0.295124</td>\n",
       "      <td>0.333333</td>\n",
       "      <td>6.0</td>\n",
       "      <td>A356L A357T A358S A460M A461L A462F A464Q A465...</td>\n",
       "      <td>MSGKIDKILIVGGGTAGWMAASYLGKALQGTADITLLQAPDIPTLG...</td>\n",
       "    </tr>\n",
       "    <tr>\n",
       "      <th>2test1_4</th>\n",
       "      <td>-438.876754</td>\n",
       "      <td>0.289144</td>\n",
       "      <td>0.222222</td>\n",
       "      <td>7.0</td>\n",
       "      <td>A356L A357T A358S A460M A461L A464Q A465S A466L</td>\n",
       "      <td>MSGKIDKILIVGGGTAGWMAASYLGKALQGTADITLLQAPDIPTLG...</td>\n",
       "    </tr>\n",
       "    <tr>\n",
       "      <th>2test1_5</th>\n",
       "      <td>-420.349953</td>\n",
       "      <td>0.319724</td>\n",
       "      <td>0.222222</td>\n",
       "      <td>7.0</td>\n",
       "      <td>A356L A357T A358S A460M A461L A464Q</td>\n",
       "      <td>MSGKIDKILIVGGGTAGWMAASYLGKALQGTADITLLQAPDIPTLG...</td>\n",
       "    </tr>\n",
       "  </tbody>\n",
       "</table>\n",
       "</div>"
      ],
      "text/plain": [
       "                Score      RMSD  Sequence Identity  # of Mutations  \\\n",
       "Test Name                                                            \n",
       "2test1_1  -431.118041  0.304815           0.333333             6.0   \n",
       "2test1_2  -429.019163  0.294727           0.222222             7.0   \n",
       "2test1_3  -433.606821  0.295124           0.333333             6.0   \n",
       "2test1_4  -438.876754  0.289144           0.222222             7.0   \n",
       "2test1_5  -420.349953  0.319724           0.222222             7.0   \n",
       "\n",
       "                                                   Mutations  \\\n",
       "Test Name                                                      \n",
       "2test1_1    A356L A357T A358S A460M A461L A462F A464Q A466L    \n",
       "2test1_2          A356L A357G A358S A460M A464Q A465E A466L    \n",
       "2test1_3   A356L A357T A358S A460M A461L A462F A464Q A465...   \n",
       "2test1_4    A356L A357T A358S A460M A461L A464Q A465S A466L    \n",
       "2test1_5                A356L A357T A358S A460M A461L A464Q    \n",
       "\n",
       "                                                    Sequence  \n",
       "Test Name                                                     \n",
       "2test1_1   MSGKIDKILIVGGGTAGWMAASYLGKALQGTADITLLQAPDIPTLG...  \n",
       "2test1_2   MSGKIDKILIVGGGTAGWMAASYLGKALQGTADITLLQAPDIPTLG...  \n",
       "2test1_3   MSGKIDKILIVGGGTAGWMAASYLGKALQGTADITLLQAPDIPTLG...  \n",
       "2test1_4   MSGKIDKILIVGGGTAGWMAASYLGKALQGTADITLLQAPDIPTLG...  \n",
       "2test1_5   MSGKIDKILIVGGGTAGWMAASYLGKALQGTADITLLQAPDIPTLG...  "
      ]
     },
     "execution_count": 4,
     "metadata": {},
     "output_type": "execute_result"
    }
   ],
   "source": [
    "df.head()"
   ]
  },
  {
   "cell_type": "markdown",
   "metadata": {},
   "source": [
    "### 4. Create Matplotlib visualizations of decoy data"
   ]
  },
  {
   "cell_type": "code",
   "execution_count": 5,
   "metadata": {},
   "outputs": [
    {
     "data": {
      "image/png": "[encoded data removed]",
      "text/plain": [
       "<Figure size 432x288 with 1 Axes>"
      ]
     },
     "metadata": {
      "needs_background": "light"
     },
     "output_type": "display_data"
    }
   ],
   "source": [
    "plt.plot(df[\"RMSD\"], df[\"Score\"], \"go\")\n",
    "plt.title(\"Score vs RMSD\")\n",
    "plt.xlabel(\"RMSD\")\n",
    "plt.ylabel(\"Score\")\n",
    "plt.show()"
   ]
  },
  {
   "cell_type": "code",
   "execution_count": 6,
   "metadata": {},
   "outputs": [
    {
     "data": {
      "image/png": "[encoded data removed]",
      "text/plain": [
       "<Figure size 432x288 with 1 Axes>"
      ]
     },
     "metadata": {
      "needs_background": "light"
     },
     "output_type": "display_data"
    }
   ],
   "source": [
    "plt.plot(df[\"Sequence Identity\"], df[\"Score\"], \"ro\")\n",
    "plt.title(\"Score vs Sequence Identity\")\n",
    "plt.xlabel(\"Active Site Sequence Identity\")\n",
    "plt.ylabel(\"Score\")\n",
    "plt.show()"
   ]
  }
 ],
 "metadata": {
  "kernelspec": {
   "display_name": "Python 3",
   "language": "python",
   "name": "python3"
  },
  "language_info": {
   "codemirror_mode": {
    "name": "ipython",
    "version": 3
   },
   "file_extension": ".py",
   "mimetype": "text/x-python",
   "name": "python",
   "nbconvert_exporter": "python",
   "pygments_lexer": "ipython3",
   "version": "3.8.3"
  }
 },
 "nbformat": 4,
 "nbformat_minor": 4
}
