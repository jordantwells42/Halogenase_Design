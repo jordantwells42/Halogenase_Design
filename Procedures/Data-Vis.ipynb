{
 "cells": [
  {
   "cell_type": "markdown",
   "metadata": {},
   "source": [
    "# Data Visualization with Pandas and Matplotlib"
   ]
  },
  {
   "cell_type": "markdown",
   "metadata": {},
   "source": [
    "Created with the goal to confirm that the graph of score against RMSD is \"funnel-shaped\" and that as sequence identity increases score decreases"
   ]
  },
  {
   "cell_type": "markdown",
   "metadata": {},
   "source": [
    "### 1. Import necessary libraries"
   ]
  },
  {
   "cell_type": "code",
   "execution_count": 2,
   "metadata": {},
   "outputs": [],
   "source": [
    "import pandas as pd\n",
    "import matplotlib.pyplot as plt\n",
    "import numpy as np"
   ]
  },
  {
   "cell_type": "markdown",
   "metadata": {},
   "source": [
    "### 2. Read CSV file with decoy information"
   ]
  },
  {
   "cell_type": "code",
   "execution_count": 34,
   "metadata": {
    "scrolled": true
   },
   "outputs": [],
   "source": [
    "df = pd.read_csv(\"CSVs/test.csv\", header = None)"
   ]
  },
  {
   "cell_type": "markdown",
   "metadata": {},
   "source": [
    "### 3. Create Pandas DataFrame with data"
   ]
  },
  {
   "cell_type": "code",
   "execution_count": 35,
   "metadata": {
    "scrolled": true
   },
   "outputs": [],
   "source": [
    "df.columns = [\"test name\", \"score\", \"rmsd\", \"sequence identity\", \"# of mutations\",\"mutations\", \"sequence\"]\n",
    "df.index = df[\"test name\"]\n",
    "df = df.drop(\"test name\", axis = 1)\n"
   ]
  },
  {
   "cell_type": "code",
   "execution_count": 36,
   "metadata": {},
   "outputs": [
    {
     "data": {
      "text/html": [
       "<div>\n",
       "<style scoped>\n",
       "    .dataframe tbody tr th:only-of-type {\n",
       "        vertical-align: middle;\n",
       "    }\n",
       "\n",
       "    .dataframe tbody tr th {\n",
       "        vertical-align: top;\n",
       "    }\n",
       "\n",
       "    .dataframe thead th {\n",
       "        text-align: right;\n",
       "    }\n",
       "</style>\n",
       "<table border=\"1\" class=\"dataframe\">\n",
       "  <thead>\n",
       "    <tr style=\"text-align: right;\">\n",
       "      <th></th>\n",
       "      <th>score</th>\n",
       "      <th>rmsd</th>\n",
       "      <th>sequence identity</th>\n",
       "      <th># of mutations</th>\n",
       "      <th>mutations</th>\n",
       "      <th>sequence</th>\n",
       "    </tr>\n",
       "    <tr>\n",
       "      <th>test name</th>\n",
       "      <th></th>\n",
       "      <th></th>\n",
       "      <th></th>\n",
       "      <th></th>\n",
       "      <th></th>\n",
       "      <th></th>\n",
       "    </tr>\n",
       "  </thead>\n",
       "  <tbody>\n",
       "    <tr>\n",
       "      <th>test1_1</th>\n",
       "      <td>-432.995003</td>\n",
       "      <td>0.419236</td>\n",
       "      <td>0.333333</td>\n",
       "      <td>6.0</td>\n",
       "      <td>A356L A357T A358S A460M A461L A462F A464Q A465...</td>\n",
       "      <td>MSGKIDKILIVGGGTAGWMAASYLGKALQGTADITLLQAPDIPTLG...</td>\n",
       "    </tr>\n",
       "    <tr>\n",
       "      <th>test1_2</th>\n",
       "      <td>-432.511921</td>\n",
       "      <td>0.309389</td>\n",
       "      <td>0.222222</td>\n",
       "      <td>7.0</td>\n",
       "      <td>A356L A357T A358S A460M A461L A464Q A465E</td>\n",
       "      <td>MSGKIDKILIVGGGTAGWMAASYLGKALQGTADITLLQAPDIPTLG...</td>\n",
       "    </tr>\n",
       "    <tr>\n",
       "      <th>test1_3</th>\n",
       "      <td>-429.346222</td>\n",
       "      <td>0.376804</td>\n",
       "      <td>0.222222</td>\n",
       "      <td>7.0</td>\n",
       "      <td>A356L A357T A358S A460M A461L A464Q A466G</td>\n",
       "      <td>MSGKIDKILIVGGGTAGWMAASYLGKALQGTADITLLQAPDIPTLG...</td>\n",
       "    </tr>\n",
       "    <tr>\n",
       "      <th>test1_4</th>\n",
       "      <td>-426.992231</td>\n",
       "      <td>0.273491</td>\n",
       "      <td>0.222222</td>\n",
       "      <td>7.0</td>\n",
       "      <td>A356L A357T A358S A460M A461L A464Q A465L</td>\n",
       "      <td>MSGKIDKILIVGGGTAGWMAASYLGKALQGTADITLLQAPDIPTLG...</td>\n",
       "    </tr>\n",
       "    <tr>\n",
       "      <th>test1_5</th>\n",
       "      <td>-431.449709</td>\n",
       "      <td>0.303549</td>\n",
       "      <td>0.222222</td>\n",
       "      <td>7.0</td>\n",
       "      <td>A356L A357T A358S A460M A461L A464Q</td>\n",
       "      <td>MSGKIDKILIVGGGTAGWMAASYLGKALQGTADITLLQAPDIPTLG...</td>\n",
       "    </tr>\n",
       "  </tbody>\n",
       "</table>\n",
       "</div>"
      ],
      "text/plain": [
       "                score      rmsd  sequence identity  # of mutations  \\\n",
       "test name                                                            \n",
       "test1_1   -432.995003  0.419236           0.333333             6.0   \n",
       "test1_2   -432.511921  0.309389           0.222222             7.0   \n",
       "test1_3   -429.346222  0.376804           0.222222             7.0   \n",
       "test1_4   -426.992231  0.273491           0.222222             7.0   \n",
       "test1_5   -431.449709  0.303549           0.222222             7.0   \n",
       "\n",
       "                                                   mutations  \\\n",
       "test name                                                      \n",
       "test1_1    A356L A357T A358S A460M A461L A462F A464Q A465...   \n",
       "test1_2           A356L A357T A358S A460M A461L A464Q A465E    \n",
       "test1_3           A356L A357T A358S A460M A461L A464Q A466G    \n",
       "test1_4           A356L A357T A358S A460M A461L A464Q A465L    \n",
       "test1_5                 A356L A357T A358S A460M A461L A464Q    \n",
       "\n",
       "                                                    sequence  \n",
       "test name                                                     \n",
       "test1_1    MSGKIDKILIVGGGTAGWMAASYLGKALQGTADITLLQAPDIPTLG...  \n",
       "test1_2    MSGKIDKILIVGGGTAGWMAASYLGKALQGTADITLLQAPDIPTLG...  \n",
       "test1_3    MSGKIDKILIVGGGTAGWMAASYLGKALQGTADITLLQAPDIPTLG...  \n",
       "test1_4    MSGKIDKILIVGGGTAGWMAASYLGKALQGTADITLLQAPDIPTLG...  \n",
       "test1_5    MSGKIDKILIVGGGTAGWMAASYLGKALQGTADITLLQAPDIPTLG...  "
      ]
     },
     "execution_count": 36,
     "metadata": {},
     "output_type": "execute_result"
    }
   ],
   "source": [
    "df.head()"
   ]
  },
  {
   "cell_type": "markdown",
   "metadata": {},
   "source": [
    "### 4. Create Matplotlib visualizations of decoy data"
   ]
  },
  {
   "cell_type": "code",
   "execution_count": 42,
   "metadata": {},
   "outputs": [
    {
     "data": {
      "image/png": "[encoded data removed]",
      "text/plain": [
       "<Figure size 432x288 with 1 Axes>"
      ]
     },
     "metadata": {
      "needs_background": "light"
     },
     "output_type": "display_data"
    }
   ],
   "source": [
    "plt.plot(df[\"rmsd\"], df[\"score\"], \"go\")\n",
    "plt.title(\"Score vs RMSD\")\n",
    "plt.xlabel(\"RMSD\")\n",
    "plt.ylabel(\"Score\")\n",
    "plt.show()"
   ]
  },
  {
   "cell_type": "code",
   "execution_count": 43,
   "metadata": {},
   "outputs": [
    {
     "data": {
      "image/png": "[encoded data removed]",
      "text/plain": [
       "<Figure size 432x288 with 1 Axes>"
      ]
     },
     "metadata": {
      "needs_background": "light"
     },
     "output_type": "display_data"
    }
   ],
   "source": [
    "plt.plot(df[\"sequence identity\"], df[\"score\"], \"ro\")\n",
    "plt.title(\"Score vs Sequence Identity\")\n",
    "plt.xlabel(\"Active Site Sequence Identity\")\n",
    "plt.ylabel(\"score\")\n",
    "plt.show()"
   ]
  },
  {
   "cell_type": "code",
   "execution_count": null,
   "metadata": {},
   "outputs": [],
   "source": []
  }
 ],
 "metadata": {
  "kernelspec": {
   "display_name": "Python 3",
   "language": "python",
   "name": "python3"
  },
  "language_info": {
   "codemirror_mode": {
    "name": "ipython",
    "version": 3
   },
   "file_extension": ".py",
   "mimetype": "text/x-python",
   "name": "python",
   "nbconvert_exporter": "python",
   "pygments_lexer": "ipython3",
   "version": "3.8.3"
  }
 },
 "nbformat": 4,
 "nbformat_minor": 4
}
